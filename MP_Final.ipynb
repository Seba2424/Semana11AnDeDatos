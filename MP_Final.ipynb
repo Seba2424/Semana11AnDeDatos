{
 "cells": [
  {
   "cell_type": "code",
   "execution_count": 1,
   "metadata": {},
   "outputs": [],
   "source": [
    "\n",
    "import requests  \n",
    "import pandas as pd  \n",
    "\n",
    "url = \"https://www.getonbrd.com/api/v0/categories?per_page=100&page=1\"\n",
    "\n",
    "# Obtener datos de la api\n",
    "categorias = requests.get(url)\n",
    "\n",
    "with open('categorias.json', 'w') as file:\n",
    "    file.write(categorias.text)\n",
    "    \n",
    "\n",
    "# Convertir la respuesta JSON a un diccionario de Python\n",
    "# El método .json() convierte el JSON de la respuesta en un diccionario de Python.\n",
    "data = categorias.json()\n",
    "\n",
    "# Extraer la información de las categorías\n",
    "# El JSON de la respuesta tiene una clave 'data' que contiene una lista de categorías.\n",
    "categories = data['data']\n",
    "\n",
    "# Crear una lista para luego crear el dataframe\n",
    "categories_list = []\n",
    "\n",
    "\n",
    "for category in categories:\n",
    "    # Obtener los valores de id tipo atributo y dimension\n",
    "    category_id = category['id']\n",
    "    category_type = category['type']\n",
    "    category_name = category['attributes']['name']\n",
    "    category_dimension = category['attributes']['dimension']\n",
    "    \n",
    "    # Añadir los datos extraídos a la lista creada anteriormente\n",
    "    categories_list.append({\n",
    "        'id': category_id,\n",
    "        'type': category_type,\n",
    "        'name': category_name,\n",
    "        'dimension': category_dimension\n",
    "    })\n",
    "\n",
    "categorias_df = pd.DataFrame(categories_list)\n"
   ]
  },
  {
   "cell_type": "code",
   "execution_count": 2,
   "metadata": {},
   "outputs": [
    {
     "name": "stdout",
     "output_type": "stream",
     "text": [
      "['data-science-analytics', 'innovation-agile', 'customer-support', 'programming', 'sysadmin-devops-qa', 'design-ux', 'digital-marketing', 'mobile-developer', 'operations-management', 'sales', 'education-coaching', 'other', 'hr', 'technical-support', 'cybersecurity', 'machine-learning-ai', 'advertising-media', 'hardware-electronics']\n"
     ]
    }
   ],
   "source": [
    "# Lista de categorias\n",
    "print(categorias_df['id'].tolist())\n"
   ]
  },
  {
   "cell_type": "code",
   "execution_count": 3,
   "metadata": {},
   "outputs": [
    {
     "data": {
      "text/plain": [
       "\"\\n['programming', 'data-science-analytics', 'innovation-agile', 'customer-support', 'sysadmin-devops-qa', 'design-ux', 'digital-marketing', \\n'mobile-developer', 'operations-management', 'sales', 'education-coaching', 'other', 'hr', 'technical-support', 'cybersecurity', \\n'machine-learning-ai', 'advertising-media', 'hardware-electronics']\\n\""
      ]
     },
     "execution_count": 3,
     "metadata": {},
     "output_type": "execute_result"
    }
   ],
   "source": [
    "#Lista de categorías\n",
    "\n",
    "\"\"\"\n",
    "['programming', 'data-science-analytics', 'innovation-agile', 'customer-support', 'sysadmin-devops-qa', 'design-ux', 'digital-marketing', \n",
    "'mobile-developer', 'operations-management', 'sales', 'education-coaching', 'other', 'hr', 'technical-support', 'cybersecurity', \n",
    "'machine-learning-ai', 'advertising-media', 'hardware-electronics']\n",
    "\"\"\""
   ]
  },
  {
   "cell_type": "code",
   "execution_count": 4,
   "metadata": {},
   "outputs": [],
   "source": [
    "# Un solo trabajo\n",
    "\n",
    "url2 = \"https://www.getonbrd.com/api/v0/categories/programming/jobs?per_page=1&page=1&expand=[%22company%22,%22tags%22,%22location_tenants%22,%22modality%22,%22seniority%22]\"\n",
    "\n",
    "trabajo = requests.get(url2)\n",
    "\n",
    "with open('trabajo.json', 'w') as file:\n",
    "    file.write(trabajo.text)\n",
    "\n",
    "data2 = trabajo.json()"
   ]
  },
  {
   "cell_type": "code",
   "execution_count": null,
   "metadata": {},
   "outputs": [],
   "source": [
    "# Formato de respuesta\n",
    "\n",
    "\"\"\"\n",
    "{\n",
    "    \"data\": [\n",
    "        {\n",
    "            \"id\": \"programador-biometria-aplicada-santiago\",\n",
    "            \"type\": \"job\",\n",
    "            \"attributes\": {\n",
    "                \"title\": \"Programador\",\n",
    "                \"description_headline\": \"Requerimientos del cargo\",\n",
    "                \"description\": \"Debes tener experiencia comprobable en desarrollo con C#, conocimientos de bases de datos relacionales SQL Server\",\n",
    "                \"projects\": \"Estamos creando software para plataformas web y aplicaciones móviles como parte del  de soluciones empresariales de alto desempeño,\n",
    "                \"functions_headline\": \"Funciones del cargo\",\n",
    "                \"functions\": \"Estaras trabajando como desarrollador en proyectos del area de I+D de la empresa, inicialmente en el desarrollo de aplicaciones\",\n",
    "                \"benefits_headline\": \"Condiciones\",\n",
    "                \"benefits\": \"Somos una empresa con muy buen ambiente de trabajo, horizontal en el trato a la gente, con excelentes expectativas de crecimiento\",\n",
    "                \"desirable_headline\": \"Opcionales\",\n",
    "                \"desirable\": \"Cloud services como Azure, AWS, GCP Bases de datos no relacionales Node, Express CQRS, DDD Tecnologias Movile: iOS, Android, Flutter\",\n",
    "                \"remote\": false,\n",
    "                \"remote_modality\": \"no_remote\",\n",
    "                \"remote_zone\": null,\n",
    "                \"countries\": [\n",
    "                    \"Chile\"\n",
    "                ],\n",
    "                \"lang\": \"es\",\n",
    "                \"category_name\": \"Programming\",\n",
    "                \"perks\": [\n",
    "                    \"health_coverage\",\n",
    "                    \"computer_provided\",\n",
    "                    \"informal_dresscode\"\n",
    "                ],\n",
    "                \"min_salary\": 2400,\n",
    "                \"max_salary\": 4000,\n",
    "                \"published_at\": 1716506997,\n",
    "                \"response_time_in_days\": {\n",
    "                    \"min\": null,\n",
    "                    \"max\": null\n",
    "                },\n",
    "                \"applications_count\": 10,\n",
    "                \"location_regions\": {\n",
    "                    \"data\": []\n",
    "                },\n",
    "                \"location_tenants\": {\n",
    "                    \"data\": []\n",
    "                },\n",
    "                \"location_cities\": {\n",
    "                    \"data\": [\n",
    "                        {\n",
    "                            \"id\": 1,\n",
    "                            \"type\": \"location_city\"\n",
    "                        }\n",
    "                    ]\n",
    "                },\n",
    "                \"modality\": {\n",
    "                    \"data\": {\n",
    "                        \"id\": \"1\",\n",
    "                        \"type\": \"modality\",\n",
    "                        \"attributes\": {\n",
    "                            \"name\": \"Full time\",\n",
    "                            \"locale_key\": \"full_time\"\n",
    "                        }\n",
    "                    }\n",
    "                },\n",
    "                \"seniority\": {\n",
    "                    \"data\": {\n",
    "                        \"id\": \"3\",\n",
    "                        \"type\": \"seniority\",\n",
    "                        \"attributes\": {\n",
    "                            \"name\": \"Semi Senior\",\n",
    "                            \"locale_key\": \"semi_senior\"\n",
    "                        }\n",
    "                    }\n",
    "                },\n",
    "                \"tags\": {\n",
    "                    \"data\": [\n",
    "                        {\n",
    "                            \"id\": \"javascript\",\n",
    "                            \"type\": \"tag\",\n",
    "                            \"attributes\": {\n",
    "                                \"name\": \"JavaScript\",\n",
    "                                \"keywords\": \"EcmaScript, ES6, ES8, Java Script, React, Vue, Angular, Backbone, Marionette, Ember, Node, Node.js, Nodejs, JS\"\n",
    "                            }\n",
    "                        },\n",
    "                        {\n",
    "                            \"id\": \"ux\",\n",
    "                            \"type\": \"tag\",\n",
    "                            \"attributes\": {\n",
    "                                \"name\": \"UX\",\n",
    "                                \"keywords\": \"\"\n",
    "                            }\n",
    "                        },\n",
    "                        {\n",
    "                            \"id\": \"c\",\n",
    "                            \"type\": \"tag\",\n",
    "                            \"attributes\": {\n",
    "                                \"name\": \"C\",\n",
    "                                \"keywords\": \"\"\n",
    "                            }\n",
    "                        },\n",
    "                        {\n",
    "                            \"id\": \"front-end\",\n",
    "                            \"type\": \"tag\",\n",
    "                            \"attributes\": {\n",
    "                                \"name\": \"Front-end\",\n",
    "                                \"keywords\": \"Boilerplate, Middleman,  React, React.js, Angular, AngularJS, Vue, Marionette, Backbone, ReactJS, Bower, Grunt\"\n",
    "                            }\n",
    "                        },\n",
    "                        {\n",
    "                            \"id\": \"sql\",\n",
    "                            \"type\": \"tag\",\n",
    "                            \"attributes\": {\n",
    "                                \"name\": \"SQL\",\n",
    "                                \"keywords\": \"PL SQL, SQLServer, SQL server\"\n",
    "                            }\n",
    "                        },\n",
    "                        {\n",
    "                            \"id\": \"c-sharp\",\n",
    "                            \"type\": \"tag\",\n",
    "                            \"attributes\": {\n",
    "                                \"name\": \"C#\",\n",
    "                                \"keywords\": \"\"\n",
    "                            }\n",
    "                        },\n",
    "                        {\n",
    "                            \"id\": \"angularjs\",\n",
    "                            \"type\": \"tag\",\n",
    "                            \"attributes\": {\n",
    "                                \"name\": \"AngularJS\",\n",
    "                                \"keywords\": \"Angular, Angular.js\"\n",
    "                            }\n",
    "                        },\n",
    "                        {\n",
    "                            \"id\": \"react\",\n",
    "                            \"type\": \"tag\",\n",
    "                            \"attributes\": {\n",
    "                                \"name\": \"React\",\n",
    "                                \"keywords\": \"ReactJS, React-Native, GatsbyJS, react.js, React JS\"\n",
    "                            }\n",
    "                        },\n",
    "                        {\n",
    "                            \"id\": \"back-end\",\n",
    "                            \"type\": \"tag\",\n",
    "                            \"attributes\": {\n",
    "                                \"name\": \"Back-end\",\n",
    "                                \"keywords\": \"Java, Python, Node, NodeJS, Node.js, Ruby, C, Golang, PHP, Scala, Laravel, Rails, Django, Elixir, Phoenix, C#, C++\"\n",
    "                            }\n",
    "                        },\n",
    "                        {\n",
    "                            \"id\": \"angular\",\n",
    "                            \"type\": \"tag\",\n",
    "                            \"attributes\": {\n",
    "                                \"name\": \"Angular\",\n",
    "                                \"keywords\": \"\"\n",
    "                            }\n",
    "                        },\n",
    "                        {\n",
    "                            \"id\": \"continual-improvement-process\",\n",
    "                            \"type\": \"tag\",\n",
    "                            \"attributes\": {\n",
    "                                \"name\": \"Continual improvement process\",\n",
    "                                \"keywords\": \"Continual improvement, Mejora continua, Procesos de mejora continua\"\n",
    "                            }\n",
    "                        },\n",
    "                        {\n",
    "                            \"id\": \"sql-server\",\n",
    "                            \"type\": \"tag\",\n",
    "                            \"attributes\": {\n",
    "                                \"name\": \"SQL Server\",\n",
    "                                \"keywords\": \"SQLServer\"\n",
    "                            }\n",
    "                        }\n",
    "                    ]\n",
    "                },\n",
    "                \"company\": {\n",
    "                    \"data\": {\n",
    "                        \"id\": \"biometria-aplicada\",\n",
    "                        \"type\": \"company\",\n",
    "                        \"attributes\": {\n",
    "                            \"name\": \"Biometria Aplicada\",\n",
    "                            \"description\": \"Somos una empresa sólida con más de 12 años de experiencia en el mercado de Soluciones Integrales de Control Biométrico. \",\n",
    "                            \"long_description\": \"\",\n",
    "                            \"projects\": \"Estamos creando software para plataformas web y aplicaciones móviles como parte del; de soluciones empresariales de alto desempeño\",\n",
    "                            \"benefits\": \"Somos una empresa con muy buen ambiente de trabajo, horizontal en el trato a la gente, con excelentes expectativas de crecimiento\",\n",
    "                            \"web\": \"https://baplicada.cl\",\n",
    "                            \"twitter\": \"\",\n",
    "                            \"github\": \"\",\n",
    "                            \"facebook\": \"\",\n",
    "                            \"angellist\": \"\",\n",
    "                            \"country\": \"CL\",\n",
    "                            \"response_time_in_days\": {\n",
    "                                \"min\": null,\n",
    "                                \"max\": null\n",
    "                            },\n",
    "                            \"logo\": \"https://getonbrd-prod.s3.amazonaws.com/uploads/users/logo/14960/ba_fondo_blanco_cuadrado.jpg\"\n",
    "                        }\n",
    "                    }\n",
    "                }\n",
    "            },\n",
    "            \"links\": {\n",
    "                \"public_url\": \"https://www.getonbrd.com/jobs/programador-biometria-aplicada-santiago\"\n",
    "            }\n",
    "        }\n",
    "    ],\n",
    "    \"meta\": {\n",
    "        \"page\": 1,\n",
    "        \"per_page\": 1,\n",
    "        \"total_pages\": 363\n",
    "    }\n",
    "}\n",
    "\n",
    "\"\"\""
   ]
  },
  {
   "cell_type": "code",
   "execution_count": null,
   "metadata": {},
   "outputs": [],
   "source": [
    "# Lista de atributos del trabajo\n",
    "\n",
    "\"\"\"\n",
    "job_id\n",
    "job_type\n",
    "title\n",
    "description_headline\n",
    "description\n",
    "projects\n",
    "functions_headline\n",
    "functions\n",
    "benefits_headline\n",
    "benefits\n",
    "desirable_headline\n",
    "desirable\n",
    "remote\n",
    "remote_modality\n",
    "remote_zone\n",
    "countries\n",
    "lang\n",
    "category_name\n",
    "perks\n",
    "min_salary\n",
    "max_salary\n",
    "published_at\n",
    "response_time_in_days_min\n",
    "response_time_in_days_max\n",
    "applications_count\n",
    "location_regions\n",
    "location_tenants\n",
    "location_cities\n",
    "modality\n",
    "seniority\n",
    "tags\n",
    "company_id\n",
    "company_type\n",
    "company_name\n",
    "company_description\n",
    "company_long_description\n",
    "company_web\n",
    "company_twitter\n",
    "company_github\n",
    "company_facebook\n",
    "company_angellist\n",
    "company_country\n",
    "company_logo\n",
    "links\n",
    "\"\"\""
   ]
  },
  {
   "cell_type": "code",
   "execution_count": null,
   "metadata": {},
   "outputs": [],
   "source": [
    "import requests\n",
    "import json\n",
    "\n",
    "# Lista de categorías\n",
    "categories = [\n",
    "    'programming', 'data-science-analytics', 'innovation-agile', 'customer-support', 'sysadmin-devops-qa', 'design-ux', 'digital-marketing', \n",
    "    'mobile-developer', 'operations-management', 'sales', 'education-coaching', 'other', 'hr', 'technical-support', 'cybersecurity', \n",
    "    'machine-learning-ai', 'advertising-media', 'hardware-electronics'\n",
    "]\n",
    "\n",
    "# URL sin categoría\n",
    "url_completo = \"https://www.getonbrd.com/api/v0/categories/{}/jobs?per_page=100&page=1&expand=[%22company%22,%22tags%22,%22location_tenants%22,%22modality%22,%22seniority%22]\"\n",
    "\n",
    "# Inicializar una lista para almacenar todos los datos\n",
    "all_jobs = []\n",
    "\n",
    "# Recorrer cada categoría y obtener los datos de la API\n",
    "for category in categories:\n",
    "    url = url_completo.format(category)\n",
    "    response = requests.get(url)\n",
    "    \n",
    "    if response.status_code == 200:\n",
    "        jobs_data = response.json()\n",
    "        all_jobs.extend(jobs_data['data'])  # Suponiendo que los datos de los trabajos están bajo la clave 'data'\n",
    "    else:\n",
    "        print(f\"Error fetching data for category {category}: {response.status_code}\")\n",
    "\n",
    "# Guardar todos los datos en un archivo JSON\n",
    "with open('trabajos.json', 'w') as file:\n",
    "    json.dump(all_jobs, file, indent=4)\n"
   ]
  },
  {
   "cell_type": "code",
   "execution_count": 5,
   "metadata": {},
   "outputs": [],
   "source": [
    "from bs4 import BeautifulSoup\n",
    "import pandas as pd\n",
    "import json\n",
    "\n",
    "# Cargar datos de todos los trabajos\n",
    "with open('trabajos.json', 'r') as file:\n",
    "    all_jobs_data = json.load(file)\n",
    "\n",
    "# Lista para almacenar los datos procesados\n",
    "lista_trabajos = []\n",
    "\n",
    "# Iterar sobre cada trabajo en los datos de todas las categorías\n",
    "for job in all_jobs_data:\n",
    "    atributos = job['attributes']\n",
    "    company_attributes = atributos.get('company', {}).get('data', {}).get('attributes', {})\n",
    "\n",
    "    trabajos_data = {\n",
    "    'job_id': job.get('id', ''),\n",
    "    'job_type': job.get('type', ''),\n",
    "    'title': atributos.get('title', ''),\n",
    "    'description_headline': atributos.get('description_headline', ''),\n",
    "    'description': atributos.get('description', ''),\n",
    "    'projects': atributos.get('projects', ''),\n",
    "    'functions_headline': atributos.get('functions_headline', ''),\n",
    "    'functions': atributos.get('functions', ''),\n",
    "    'benefits_headline': atributos.get('benefits_headline', ''),\n",
    "    'benefits': atributos.get('benefits', ''),\n",
    "    'desirable_headline': atributos.get('desirable_headline', ''),\n",
    "    'desirable': atributos.get('desirable', ''),\n",
    "    'remote': atributos.get('remote', ''),\n",
    "    'remote_modality': atributos.get('remote_modality', ''),\n",
    "    'remote_zone': atributos.get('remote_zone', ''),\n",
    "    'countries': ', '.join(atributos.get('countries', [])),\n",
    "    'lang': atributos.get('lang', ''),\n",
    "    'category_name': atributos.get('category_name', ''),\n",
    "    'perks': ', '.join(atributos.get('perks', [])),\n",
    "    'min_salary': atributos.get('min_salary', 0),\n",
    "    'max_salary': atributos.get('max_salary', 0),\n",
    "    'published_at': atributos.get('published_at', 0),\n",
    "    'response_time_in_days_min': atributos.get('response_time_in_days', {}).get('min', None),\n",
    "    'response_time_in_days_max': atributos.get('response_time_in_days', {}).get('max', None),\n",
    "    'applications_count': atributos.get('applications_count', 0),\n",
    "    'location_regions': ', '.join([str(region['id']) for region in atributos.get('location_regions', {}).get('data', [])]),\n",
    "    'location_tenants': ', '.join([str(tenant['id']) for tenant in atributos.get('location_tenants', {}).get('data', [])]),\n",
    "    'location_cities': ', '.join([str(city['id']) for city in atributos.get('location_cities', {}).get('data', [])]),\n",
    "    'modality': atributos.get('modality', {}).get('data', {}).get('attributes', {}).get('name', ''),\n",
    "    'seniority': atributos.get('seniority', {}).get('data', {}).get('attributes', {}).get('name', ''),\n",
    "    'tags': ', '.join([tag['attributes']['name'] for tag in atributos.get('tags', {}).get('data', [])]),\n",
    "    'company_id': company_attributes.get('id', ''),\n",
    "    'company_type': company_attributes.get('type', ''),\n",
    "    'company_name': company_attributes.get('name', ''),\n",
    "    'company_description': company_attributes.get('description', ''),\n",
    "    'company_long_description': company_attributes.get('long_description', ''),\n",
    "    'company_web': company_attributes.get('web', ''),\n",
    "    'company_twitter': company_attributes.get('twitter', ''),\n",
    "    'company_github': company_attributes.get('github', ''),\n",
    "    'company_facebook': company_attributes.get('facebook', ''),\n",
    "    'company_angellist': company_attributes.get('angellist', ''),\n",
    "    'company_country': company_attributes.get('country', ''),\n",
    "    'company_logo': company_attributes.get('logo', ''),\n",
    "    'links': job.get('links', {}).get('public_url', '')\n",
    "}\n",
    "\n",
    "\n",
    "\n",
    "    # Añadir el diccionario a la lista\n",
    "    lista_trabajos.append(trabajos_data)\n",
    "\n",
    "# Crear el DataFrame\n",
    "trabajos_df = pd.DataFrame(lista_trabajos)\n",
    "\n",
    "\n",
    "\"\"\"\n",
    "MarkupResemblesLocatorWarning: The input looks more like a filename than markup. \n",
    "You may want to open this file and pass the filehandle into Beautiful Soup.\n",
    "soup = BeautifulSoup(texto_html, 'html.parser')\n",
    "\"\"\"\n",
    "\n",
    "# Funcion para limpiar el texto HTML\n",
    "def limpiar_html(texto_html):\n",
    "    if not texto_html or not isinstance(texto_html, str):\n",
    "        return \"\"\n",
    "    elif '<' not in texto_html and '>' not in texto_html:\n",
    "        return texto_html.strip()  \n",
    "    else:\n",
    "        soup = BeautifulSoup(texto_html, 'html.parser')\n",
    "        return soup.get_text(separator=\" \", strip=True)\n",
    "\n",
    "\n",
    "# Llamar a la función limpiar_html en las categorias que incluyen notaciones HTML\n",
    "campos_texto_largo = ['description', 'projects', 'functions', 'benefits', 'desirable', 'company_description']\n",
    "for campo in campos_texto_largo:\n",
    "    trabajos_df[campo] = trabajos_df[campo].apply(limpiar_html)\n",
    "\n",
    "# Lista para definir el orden de las columnas\n",
    "columnas_finales = [ 'category_name','job_id','min_salary', 'max_salary', 'remote', 'remote_modality', 'countries', 'modality', 'seniority','perks',\n",
    "       'projects', 'functions','benefits', 'description', 'desirable','company_name','company_country', 'company_description',\n",
    "       'remote_zone', 'lang', 'published_at', 'response_time_in_days_min', 'response_time_in_days_max',\n",
    "       'applications_count','location_regions','location_tenants','location_cities', 'company_web','company_twitter', 'company_github', \n",
    "       'company_facebook', 'company_angellist',\n",
    "       'tags', 'company_logo','links', 'title','company_id','company_long_description','company_type', 'job_type', 'description_headline', \n",
    "       'functions_headline', 'benefits_headline', 'desirable_headline']\n",
    "\n",
    "# Cambiar el orden de las columnas\n",
    "trabajos_df = trabajos_df[columnas_finales]\n",
    "\n",
    "# Guardar el DataFrame en un archivo CSV\n",
    "trabajos_df.to_csv('trabajos.csv', index=False, encoding='utf-8', quotechar='\"', quoting=1)\n"
   ]
  },
  {
   "cell_type": "code",
   "execution_count": 8,
   "metadata": {},
   "outputs": [
    {
     "data": {
      "text/plain": [
       "(646, 44)"
      ]
     },
     "execution_count": 8,
     "metadata": {},
     "output_type": "execute_result"
    }
   ],
   "source": [
    "trabajos_df.shape"
   ]
  },
  {
   "cell_type": "code",
   "execution_count": null,
   "metadata": {},
   "outputs": [],
   "source": [
    "trabajos_df.head()"
   ]
  },
  {
   "cell_type": "markdown",
   "metadata": {},
   "source": [
    "1.\t¿Qué porcentaje de trabajos requieren experiencia en 'Remote' o 'Hybrid' en comparación con los trabajos presenciales?"
   ]
  },
  {
   "cell_type": "code",
   "execution_count": 13,
   "metadata": {},
   "outputs": [
    {
     "name": "stdout",
     "output_type": "stream",
     "text": [
      "remote_modality\n",
      "hybrid          349\n",
      "remote_local    162\n",
      "fully_remote     77\n",
      "no_remote        58\n",
      "Name: count, dtype: int64\n",
      "remote_modality\n",
      "hybrid          54.024768\n",
      "remote_local    25.077399\n",
      "fully_remote    11.919505\n",
      "no_remote        8.978328\n",
      "Name: proportion, dtype: float64\n"
     ]
    }
   ],
   "source": [
    "print(trabajos_df ['remote_modality'].value_counts())\n",
    "\n",
    "print(trabajos_df ['remote_modality'].value_counts(normalize=True)*100)\n"
   ]
  },
  {
   "cell_type": "code",
   "execution_count": 14,
   "metadata": {},
   "outputs": [
    {
     "name": "stdout",
     "output_type": "stream",
     "text": [
      "seniority\n",
      "Semi Senior        191\n",
      "Senior              79\n",
      "Junior              62\n",
      "Sin experiencia     12\n",
      "Expert               5\n",
      "Name: count, dtype: int64\n"
     ]
    }
   ],
   "source": [
    "trabajos_hybrid = trabajos_df[trabajos_df['remote_modality'] == 'hybrid']\n",
    "\n",
    "print(trabajos_hybrid['seniority'].value_counts())"
   ]
  },
  {
   "cell_type": "code",
   "execution_count": 15,
   "metadata": {},
   "outputs": [
    {
     "name": "stdout",
     "output_type": "stream",
     "text": [
      "seniority\n",
      "Semi Senior    35\n",
      "Senior         31\n",
      "Junior         11\n",
      "Name: count, dtype: int64\n"
     ]
    }
   ],
   "source": [
    "trabajos_fully_remote = trabajos_df[trabajos_df['remote_modality'] == 'fully_remote']\n",
    "\n",
    "print(trabajos_fully_remote['seniority'].value_counts())"
   ]
  },
  {
   "cell_type": "code",
   "execution_count": 16,
   "metadata": {},
   "outputs": [
    {
     "name": "stdout",
     "output_type": "stream",
     "text": [
      "seniority\n",
      "Semi Senior        73\n",
      "Senior             43\n",
      "Junior             33\n",
      "Expert              7\n",
      "Sin experiencia     6\n",
      "Name: count, dtype: int64\n"
     ]
    }
   ],
   "source": [
    "trabajos_remote_local = trabajos_df[trabajos_df['remote_modality'] == 'remote_local']\n",
    "\n",
    "print(trabajos_remote_local['seniority'].value_counts())"
   ]
  },
  {
   "cell_type": "code",
   "execution_count": 17,
   "metadata": {},
   "outputs": [
    {
     "name": "stdout",
     "output_type": "stream",
     "text": [
      "seniority\n",
      "Semi Senior        108\n",
      "Senior              74\n",
      "Junior              44\n",
      "Expert               7\n",
      "Sin experiencia      6\n",
      "Name: count, dtype: int64\n"
     ]
    }
   ],
   "source": [
    "trabajos_remote_local_fully_remote = trabajos_df[(trabajos_df['remote_modality'] == 'remote_local') | (trabajos_df['remote_modality'] == 'fully_remote')]\n",
    "\n",
    "print(trabajos_remote_local_fully_remote['seniority'].value_counts())"
   ]
  },
  {
   "cell_type": "code",
   "execution_count": 18,
   "metadata": {},
   "outputs": [
    {
     "name": "stdout",
     "output_type": "stream",
     "text": [
      "seniority\n",
      "Semi Senior        23\n",
      "Junior             17\n",
      "Senior             10\n",
      "Sin experiencia     6\n",
      "Expert              2\n",
      "Name: count, dtype: int64\n"
     ]
    }
   ],
   "source": [
    "trabajos_no_remote = trabajos_df[trabajos_df['remote_modality'] == 'no_remote']\n",
    "\n",
    "print(trabajos_no_remote['seniority'].value_counts())"
   ]
  },
  {
   "cell_type": "code",
   "execution_count": 20,
   "metadata": {},
   "outputs": [
    {
     "name": "stdout",
     "output_type": "stream",
     "text": [
      "                 remotos  no remotos  hibrido\n",
      "seniority                                    \n",
      "Semi Senior          108          23      191\n",
      "Senior                74          10       79\n",
      "Junior                44          17       62\n",
      "Expert                 7           2        5\n",
      "Sin experiencia        6           6       12\n"
     ]
    }
   ],
   "source": [
    "tabla_comparativa = pd.concat([\n",
    "    trabajos_remote_local_fully_remote['seniority'].value_counts(),\n",
    "    trabajos_no_remote['seniority'].value_counts(),\n",
    "    trabajos_hybrid['seniority'].value_counts()\n",
    "], axis=1)\n",
    "\n",
    "tabla_comparativa.columns = ['remotos', 'no remotos', 'hibrido']\n",
    "\n",
    "print(tabla_comparativa)"
   ]
  },
  {
   "cell_type": "markdown",
   "metadata": {},
   "source": [
    "Se concideran remote las categorias [remote_local, fully_remote]\n",
    "Se concideran hybrid las categorias [hybrid]\n",
    "Se concideran presencial las categorias [no_remote]\n",
    "Se concidera experiencia cualquier categoria que no sea[Sin experiencia]\n",
    "\n",
    "R: 570 que son remote o hybrid y requieren experiencia, mientras que 52 que son presenciales y requieren experiencia, por lo que\n",
    "\n",
    "(570/52)*100=1096.1 == 1096%  lo que indica que hay significativamente mas trabajos remoto eh hibrido en comparacion con las presenciales, que ademas requieren experiencia\n"
   ]
  },
  {
   "cell_type": "markdown",
   "metadata": {},
   "source": [
    "2 ¿Cuáles son las tres habilidades más comúnmente solicitadas en la categoría de 'Data Science / Analytics'?"
   ]
  },
  {
   "cell_type": "code",
   "execution_count": 25,
   "metadata": {},
   "outputs": [
    {
     "name": "stdout",
     "output_type": "stream",
     "text": [
      "Las tres habilidades más comúnmente solicitadas en 'Data Science / Analytics' son: [('SQL', 40), ('Back-end', 33), ('Python', 32)]\n"
     ]
    }
   ],
   "source": [
    "from collections import Counter\n",
    "with open('trabajos.json', 'r') as f:\n",
    "    trabajos = json.load(f)\n",
    "data_science_jobs = [job for job in trabajos if job['attributes']['category_name'] == 'Data Science / Analytics']\n",
    "\n",
    "\n",
    "skills_counter = Counter()\n",
    "for job in data_science_jobs:\n",
    "    skills = [tag['attributes']['name'] for tag in job['attributes']['tags']['data']]\n",
    "    skills_counter.update(skills)\n",
    "\n",
    "top_skills = skills_counter.most_common(3)\n",
    "print(\"Las tres habilidades más comúnmente solicitadas en 'Data Science / Analytics' son:\", top_skills)"
   ]
  },
  {
   "cell_type": "markdown",
   "metadata": {},
   "source": [
    "3. ¿Cuáles trabajos requieren certificaciones específicas (como PL-300 para Power BI)?"
   ]
  },
  {
   "cell_type": "code",
   "execution_count": 42,
   "metadata": {},
   "outputs": [
    {
     "name": "stdout",
     "output_type": "stream",
     "text": [
      "Trabajos que requieren certificaciones específicas:\n",
      "['Desarrollador Back-end Hibrido Bogotá', 'Consultor SAP ABAP Pi/PO Inglés Avanzado', 'Technical Lead Software 100% Latam', 'Subgerente de Tecnología', 'Desarrollador Power BI', 'Specialist Consultant', 'Scrum Master', 'Project Manager', 'Scrum Master', 'Product Owner 👾👾', 'Scrum Master', 'Agile Coach (Chile)', 'Scrum Master (Chile)', 'Product Manager (Chile)', 'Scrum Master', 'Business Analyst Sr', 'Operador Command & Control Center', 'Especialista en Administración de Infraestruc', 'QA Automatizador', 'Arquitecto Infraestructura Cloud Senior Hibri', 'Lider QA Tester Migración Flexcube', 'Middle DevOps Engineer', 'Analista de Calidad de Software Proyecto', 'Consultant QA (Zephyr Eazybi 🐱\\u200d🚀)', 'Lider QA', 'DevOps', 'DevOps Engineer', 'Product Designer', 'Gestor Digital \\\\ Digital Manager', 'Performance Analyst', 'Ads Specialist (Colombia, México & Argentina)', 'Ingeniero Civil', 'Supervisor de Campo TI', 'Práctica Profesional Atracción de Talento', 'Cybersecurity Engineer', 'Ingeniero de Seguridad TI', 'IT Security Analyst', 'Ingeniero de Ciberseguridad', 'Analista SOC (Inglés Avanzado)', 'Senior Security Engineer', 'Analista Ciberseguridad (Inglés Avanzado)', 'Especialista en Ethical Hacking', 'Práctica Profesional área de Comunicaciones', 'Supervisor de Torres']\n",
      "Cantidad de trabajos que requieren certificaciones específicas: 44\n"
     ]
    }
   ],
   "source": [
    "certification_keywords = ['certificación', 'certificado', 'certification', 'certificaciones'] \n",
    "certification_jobs = [job['attributes']['title'] for job in trabajos if any(keyword in job['attributes']['description'].lower() for keyword in certification_keywords)]\n",
    "print(\"Trabajos que requieren certificaciones específicas:\")\n",
    "print(certification_jobs)\n",
    "\n",
    "certification_jobs_count = sum(1 for job in trabajos if any(keyword in job['attributes']['description'].lower() for keyword in certification_keywords))\n",
    "print(\"Cantidad de trabajos que requieren certificaciones específicas:\", certification_jobs_count)\n"
   ]
  },
  {
   "cell_type": "markdown",
   "metadata": {},
   "source": [
    "8. ¿Cuántos trabajos ofrecen beneficios relacionados con la salud (como seguro de salud o dental)?"
   ]
  },
  {
   "cell_type": "code",
   "execution_count": 27,
   "metadata": {},
   "outputs": [
    {
     "name": "stdout",
     "output_type": "stream",
     "text": [
      "Trabajos con 'salud': 0\n",
      "Trabajos con 'health': 225\n",
      "Trabajos con 'dental': 79\n"
     ]
    }
   ],
   "source": [
    "trabajos_salud = trabajos_df[trabajos_df['perks'].str.contains('salud', case=False, na=False)]\n",
    "trabajos_health = trabajos_df[trabajos_df['perks'].str.contains('health', case=False, na=False)]\n",
    "trabajos_dental = trabajos_df[trabajos_df['perks'].str.contains('dental', case=False, na=False)]\n",
    "\n",
    "print(f\"Trabajos con 'salud': {trabajos_salud.shape[0]}\")\n",
    "print(f\"Trabajos con 'health': {trabajos_health.shape[0]}\")\n",
    "print(f\"Trabajos con 'dental': {trabajos_dental.shape[0]}\")"
   ]
  },
  {
   "cell_type": "markdown",
   "metadata": {},
   "source": [
    "10. ¿Cuáles trabajos tienen la mayor cantidad de aplicaciones hasta la fecha?"
   ]
  },
  {
   "cell_type": "code",
   "execution_count": 28,
   "metadata": {},
   "outputs": [
    {
     "name": "stdout",
     "output_type": "stream",
     "text": [
      "                                     title  applications_count\n",
      "154                      Analista de Datos                3782\n",
      "415                 Email Maketing Manager                1175\n",
      "80            Jr Back-end Developer (.NET)                1161\n",
      "453  Front-end Developer React Native Perú                1152\n",
      "342                            Analista QA                1049\n",
      "41         Full-Stack Junior (Rails React)                1043\n",
      "637                         Content Editor                 996\n",
      "413   Growth Marketing Specialist (México)                 983\n",
      "552                    Key Account Manager                 894\n",
      "537                       Agente de Ventas                 860\n"
     ]
    }
   ],
   "source": [
    "trabajos_mas_aplicaciones = trabajos_df.nlargest(10, 'applications_count')[['title', 'applications_count']]\n",
    "print(trabajos_mas_aplicaciones)"
   ]
  },
  {
   "cell_type": "markdown",
   "metadata": {},
   "source": [
    "4. ¿Qué porcentaje de trabajos requiere un nivel avanzado de inglés?"
   ]
  },
  {
   "cell_type": "code",
   "execution_count": 31,
   "metadata": {},
   "outputs": [
    {
     "name": "stdout",
     "output_type": "stream",
     "text": [
      "Trabajos con 'english' o 'ingles': 57\n",
      "Porcentaje de trabajos con 'english' o 'ingles': 8.82%\n"
     ]
    }
   ],
   "source": [
    "trabajos_ingles = trabajos_df[trabajos_df['description'].str.contains('english', case=False, na=False) | trabajos_df['desirable'].str.contains('english', case=False, na=False) | trabajos_df['description'].str.contains('ingles', case=False, na=False) | trabajos_df['desirable'].str.contains('ingles', case=False, na=False)]\n",
    "\n",
    "print(f\"Trabajos con 'english' o 'ingles': {trabajos_ingles.shape[0]}\")\n",
    "print(f\"Porcentaje de trabajos con 'english' o 'ingles': {trabajos_ingles.shape[0] / trabajos_df.shape[0] * 100:.2f}%\")"
   ]
  },
  {
   "cell_type": "markdown",
   "metadata": {},
   "source": [
    "7. ¿Qué habilidades o tecnologías son más solicitadas en trabajos remotos en comparación con los trabajos presenciales?"
   ]
  },
  {
   "cell_type": "code",
   "execution_count": 32,
   "metadata": {},
   "outputs": [
    {
     "name": "stdout",
     "output_type": "stream",
     "text": [
      "Habilidades más solicitadas en trabajos remotos: [('English', 74), ('Back-end', 73), ('Cloud', 71), ('Cloud Computing', 58), ('Virtualization', 51), ('JavaScript', 46), ('Amazon Web Services', 44), ('Agile', 42), ('SQL', 39), ('Python', 34)]\n",
      "Habilidades más solicitadas en trabajos presenciales: [('Back-end', 91), ('Cloud', 91), ('Agile', 73), ('SQL', 68), ('English', 68), ('Cloud Computing', 63), ('Virtualization', 51), ('Python', 51), ('Excel', 49), ('JavaScript', 46)]\n"
     ]
    }
   ],
   "source": [
    "remote_jobs = [job for job in trabajos if job['attributes']['remote']]\n",
    "onsite_jobs = [job for job in trabajos if not job['attributes']['remote']]\n",
    "remote_skills_counter = Counter()\n",
    "for job in remote_jobs:\n",
    "    skills = [tag['attributes']['name'] for tag in job['attributes']['tags']['data']]\n",
    "    remote_skills_counter.update(skills)\n",
    "onsite_skills_counter = Counter()\n",
    "for job in onsite_jobs:\n",
    "    skills = [tag['attributes']['name'] for tag in job['attributes']['tags']['data']]\n",
    "    onsite_skills_counter.update(skills)\n",
    "top_remote_skills = remote_skills_counter.most_common(10)\n",
    "top_onsite_skills = onsite_skills_counter.most_common(10)\n",
    "print(\"Habilidades más solicitadas en trabajos remotos:\", top_remote_skills)\n",
    "print(\"Habilidades más solicitadas en trabajos presenciales:\", top_onsite_skills)"
   ]
  },
  {
   "cell_type": "markdown",
   "metadata": {},
   "source": [
    "5. ¿Cuántos trabajos requieren experiencia previa específica en la industria (por ejemplo, agrícola, ciberseguridad)?"
   ]
  },
  {
   "cell_type": "code",
   "execution_count": 38,
   "metadata": {},
   "outputs": [
    {
     "name": "stdout",
     "output_type": "stream",
     "text": [
      "576 trabajos requieren experiencia específica en la industria.\n",
      "Porcentaje de trabajos que requieren experiencia específica en la industria: 89.16%\n"
     ]
    }
   ],
   "source": [
    "industry_experience_keywords = ['experiencia', 'experience']\n",
    "industry_experience_jobs = [job for job in trabajos if any(keyword in job['attributes']['description'].lower() for keyword in industry_experience_keywords)]\n",
    "print(f\"{len(industry_experience_jobs)} trabajos requieren experiencia específica en la industria.\")\n",
    "print(f\"Porcentaje de trabajos que requieren experiencia específica en la industria: {len(industry_experience_jobs) / len(trabajos) * 100:.2f}%\")"
   ]
  },
  {
   "cell_type": "markdown",
   "metadata": {},
   "source": [
    "6. ¿Cuáles trabajos en 'Design / UX' requieren experiencia en herramientas específicas como Figma o Adobe Illustrator?"
   ]
  },
  {
   "cell_type": "code",
   "execution_count": 34,
   "metadata": {},
   "outputs": [
    {
     "name": "stdout",
     "output_type": "stream",
     "text": [
      "Trabajos con 'Figma': 0\n",
      "Trabajos con 'Adobe Illustrator': 0\n"
     ]
    }
   ],
   "source": [
    "trabajos_design_ux = trabajos_df[trabajos_df['category_name'] == 'design-ux']\n",
    "trabajos_figma = trabajos_design_ux[trabajos_design_ux['description'].str.contains('Figma', case=False, na=False) | trabajos_design_ux['desirable'].str.contains('Figma', case=False, na=False)]\n",
    "trabajos_illustrator = trabajos_design_ux[trabajos_design_ux['description'].str.contains('Adobe Illustrator', case=False, na=False) | trabajos_design_ux['desirable'].str.contains('Adobe Illustrator', case=False, na=False)]\n",
    "\n",
    "print(f\"Trabajos con 'Figma': {trabajos_figma.shape[0]}\")\n",
    "print(f\"Trabajos con 'Adobe Illustrator': {trabajos_illustrator.shape[0]}\")"
   ]
  },
  {
   "cell_type": "markdown",
   "metadata": {},
   "source": [
    "9. ¿Cuántos trabajos se publicaron en el último mes?"
   ]
  },
  {
   "cell_type": "code",
   "execution_count": 39,
   "metadata": {},
   "outputs": [
    {
     "name": "stdout",
     "output_type": "stream",
     "text": [
      "376 trabajos se publicaron en el último mes.\n"
     ]
    }
   ],
   "source": [
    "from datetime import datetime, timedelta\n",
    "current_date = datetime.now()\n",
    "one_month_ago = current_date - timedelta(days=30)\n",
    "recent_jobs = [job for job in trabajos if datetime.fromtimestamp(job['attributes']['published_at']) > one_month_ago]\n",
    "print(f\"{len(recent_jobs)} trabajos se publicaron en el último mes.\")"
   ]
  }
 ],
 "metadata": {
  "kernelspec": {
   "display_name": "base",
   "language": "python",
   "name": "python3"
  },
  "language_info": {
   "codemirror_mode": {
    "name": "ipython",
    "version": 3
   },
   "file_extension": ".py",
   "mimetype": "text/x-python",
   "name": "python",
   "nbconvert_exporter": "python",
   "pygments_lexer": "ipython3",
   "version": "3.8.10"
  }
 },
 "nbformat": 4,
 "nbformat_minor": 2
}
